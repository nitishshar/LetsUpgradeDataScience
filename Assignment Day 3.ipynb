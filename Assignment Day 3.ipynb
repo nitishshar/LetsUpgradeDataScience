{
 "cells": [
  {
   "cell_type": "markdown",
   "metadata": {},
   "source": [
    "# Assignment Day 3 | 11th November 2020\n"
   ]
  },
  {
   "cell_type": "markdown",
   "metadata": {},
   "source": [
    "## Questions 1:\n",
    "Create a numpy array starting from 2 till 50 with a stepsize of 3."
   ]
  },
  {
   "cell_type": "code",
   "execution_count": 1,
   "metadata": {},
   "outputs": [],
   "source": [
    "import numpy as np"
   ]
  },
  {
   "cell_type": "code",
   "execution_count": 2,
   "metadata": {},
   "outputs": [
    {
     "name": "stdout",
     "output_type": "stream",
     "text": [
      "[ 2  5  8 11 14 17 20 23 26 29 32 35 38 41 44 47 50]\n"
     ]
    }
   ],
   "source": [
    "arr=np.array([x for x in range(2,51,3)])\n",
    "print(arr)"
   ]
  },
  {
   "cell_type": "markdown",
   "metadata": {},
   "source": [
    "## Questions 2:\n",
    "Accept two lists of 5 elements each from the user. </br>\n",
    "Convert them to numpy arrays. Concatenate these arrays and print it. Also sort these arrays and print it."
   ]
  },
  {
   "cell_type": "code",
   "execution_count": 3,
   "metadata": {},
   "outputs": [
    {
     "name": "stdout",
     "output_type": "stream",
     "text": [
      "Enter 1 list of array\n",
      "34\n",
      "45\n",
      "23\n",
      "12\n",
      "56\n",
      "Enter 2 list of array\n",
      "76\n",
      "88\n",
      "45\n",
      "67\n",
      "43\n",
      "1st array array: [34 45 23 12 56]\n",
      "2nd Array array: [76 88 45 67 43]\n",
      "Concatenated array: [34 45 23 12 56 76 88 45 67 43]\n",
      "sorted 1st array: [12 23 34 45 56]\n",
      "sorted 2nd array: [43 45 67 76 88]\n",
      "sorted concatenated array: [12 23 34 43 45 45 56 67 76 88]\n"
     ]
    }
   ],
   "source": [
    "def performCustomTask():\n",
    "    numOfListsToRequest=2\n",
    "    noOfElementsToRequest=5\n",
    "    arrayOfInputs=[]\n",
    "    inputlist=0\n",
    "    while inputlist<numOfListsToRequest:\n",
    "        inputelements=0\n",
    "        arrelements=[]\n",
    "        print(f'Enter {inputlist+1} list of array')\n",
    "        while inputelements<noOfElementsToRequest:            \n",
    "            arrelements.append(int(input()))\n",
    "            inputelements+=1\n",
    "        arrayOfInputs.append(arrelements)\n",
    "        inputlist+=1\n",
    "    #convert to numpy arrays\n",
    "    arr1=np.array(arrayOfInputs[0])\n",
    "    arr2=np.array(arrayOfInputs[1])\n",
    "    print(f'1st array array: {arr1}')\n",
    "    print(f'2nd Array array: {arr2}')\n",
    "    #concate and print these 2 arrays\n",
    "    concatarr=np.concatenate([arr1,arr2])\n",
    "    print(f'Concatenated array: {concatarr}')\n",
    "    #sort these array and print\n",
    "    sortedarr1=np.sort(arr1)\n",
    "    sortedarr2=np.sort(arr2)\n",
    "    sortconcat=np.sort(concatarr)\n",
    "    print(f'sorted 1st array: {sortedarr1}')\n",
    "    print(f'sorted 2nd array: {sortedarr2}')\n",
    "    print(f'sorted concatenated array: {sortconcat}')\n",
    "performCustomTask()\n",
    "            "
   ]
  },
  {
   "cell_type": "markdown",
   "metadata": {},
   "source": [
    "## Questions 3:\n",
    "Write a code snippet to find the dimensions of a ndarray and its size."
   ]
  },
  {
   "cell_type": "code",
   "execution_count": 17,
   "metadata": {},
   "outputs": [
    {
     "name": "stdout",
     "output_type": "stream",
     "text": [
      "Dimesions of array is 2\n",
      "Size of array is 15\n",
      "Shape of array is (5, 3)\n"
     ]
    }
   ],
   "source": [
    "def findDimensionandSize(arr):\n",
    "    print(f'Dimesions of array is {arr.ndim}')\n",
    "    print(f'Size of array is {arr.size}')\n",
    "    print(f'Shape of array is {arr.shape}')\n",
    "arr=np.arange(15).reshape(5,3)\n",
    "findDimensionandSize(arr)"
   ]
  },
  {
   "cell_type": "markdown",
   "metadata": {},
   "source": [
    "## Questions 4:\n",
    "How to convert a 1D array into a 2D array? Demonstrate with the help of a code snippet\n",
    "Hint: np.newaxis, np.expand_dims"
   ]
  },
  {
   "cell_type": "code",
   "execution_count": 15,
   "metadata": {},
   "outputs": [
    {
     "name": "stdout",
     "output_type": "stream",
     "text": [
      "1D array : [0 1 2 3 4 5 6 7 8 9]\n",
      "2D array using reshape : [[0 1]\n",
      " [2 3]\n",
      " [4 5]\n",
      " [6 7]\n",
      " [8 9]]\n",
      "2D array using newaxis : [[0 1 2 3 4 5 6 7 8 9]]\n",
      "2D array using newaxis : [[0]\n",
      " [1]\n",
      " [2]\n",
      " [3]\n",
      " [4]\n",
      " [5]\n",
      " [6]\n",
      " [7]\n",
      " [8]\n",
      " [9]]\n",
      "2D array using expand_dims : [[0 1 2 3 4 5 6 7 8 9]]\n",
      "2D array using expand_dims: [[0]\n",
      " [1]\n",
      " [2]\n",
      " [3]\n",
      " [4]\n",
      " [5]\n",
      " [6]\n",
      " [7]\n",
      " [8]\n",
      " [9]]\n"
     ]
    }
   ],
   "source": [
    "# 1D array\n",
    "arr = np.arange(10)\n",
    "print(f'1D array : {arr}')\n",
    "# to convert 1 to 2D array we can use reshape function\n",
    "arr2D=arr.reshape(5,2)\n",
    "print(f'2D array using reshape : {arr2D}')\n",
    "\n",
    "# using newaxis\n",
    "arr2D1=np.array(arr)[np.newaxis,:]\n",
    "print(f'2D array using newaxis : {arr2D1}')    \n",
    "arr2D2=np.array(arr)[:,np.newaxis]\n",
    "print(f'2D array using newaxis : {arr2D2}')    \n",
    "\n",
    "# using expand_dims\n",
    "arr3D1=np.expand_dims(arr,axis=0)\n",
    "print(f'2D array using expand_dims : {arr3D1}')    \n",
    "arr3D2=np.expand_dims(arr,axis=1)\n",
    "print(f'2D array using expand_dims: {arr3D2}')    "
   ]
  },
  {
   "cell_type": "code",
   "execution_count": null,
   "metadata": {},
   "outputs": [],
   "source": [
    "\n"
   ]
  }
 ],
 "metadata": {
  "kernelspec": {
   "display_name": "Python 3",
   "language": "python",
   "name": "python3"
  },
  "language_info": {
   "codemirror_mode": {
    "name": "ipython",
    "version": 3
   },
   "file_extension": ".py",
   "mimetype": "text/x-python",
   "name": "python",
   "nbconvert_exporter": "python",
   "pygments_lexer": "ipython3",
   "version": "3.7.6"
  }
 },
 "nbformat": 4,
 "nbformat_minor": 4
}
