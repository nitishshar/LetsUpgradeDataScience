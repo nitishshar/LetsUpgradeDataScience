{
 "cells": [
  {
   "cell_type": "markdown",
   "metadata": {},
   "source": [
    "# Assignment-2 9th November"
   ]
  },
  {
   "cell_type": "markdown",
   "metadata": {},
   "source": [
    "# Questions 1\n",
    "Create an empty list. Accept 10 numbers from the user and append to it the list if it is an even number"
   ]
  },
  {
   "cell_type": "code",
   "execution_count": 1,
   "metadata": {},
   "outputs": [
    {
     "name": "stdout",
     "output_type": "stream",
     "text": [
      "Enter number 1: 11\n",
      "Enter number 2: 12\n",
      "Enter number 3: 13\n",
      "Enter number 4: 14\n",
      "Enter number 5: 15\n",
      "Enter number 6: 16\n",
      "Enter number 7: 17\n",
      "Enter number 8: 18\n",
      "Enter number 9: 19\n",
      "Enter number 10: 20\n",
      "[12, 14, 16, 18, 20]\n"
     ]
    }
   ],
   "source": [
    "def pickEven():\n",
    "    my_list=[]\n",
    "    for i in range(10):\n",
    "        num=int(input(f\"Enter number {i+1}: \"))\n",
    "        if num %2 ==0:\n",
    "            my_list.append(num)\n",
    "    print(my_list)\n",
    "pickEven()"
   ]
  },
  {
   "cell_type": "markdown",
   "metadata": {},
   "source": [
    "## Questions 2\n",
    "Create a notebook on LIST COMPREHENSION. This exercise is to put you in a Self learning mode"
   ]
  },
  {
   "cell_type": "markdown",
   "metadata": {},
   "source": [
    "List comprehension is an elegant way to define and create list in Python. List comprehension is a complete substitute for the lambda function as well as the functions map(), filter() and reduce().\n",
    "\n",
    "1. Basic Syntax\n",
    "The most basic list comprehension has the following syntax.\n",
    "[expression for item in iterable]\n",
    "\n"
   ]
  },
  {
   "cell_type": "code",
   "execution_count": 10,
   "metadata": {},
   "outputs": [
    {
     "name": "stdout",
     "output_type": "stream",
     "text": [
      "['h', 'u', 'm', 'a', 'n']\n"
     ]
    }
   ],
   "source": [
    "# basic syntax\n",
    "h_letters = [ letter for letter in 'human' ]\n",
    "print( h_letters)"
   ]
  },
  {
   "cell_type": "code",
   "execution_count": 11,
   "metadata": {},
   "outputs": [
    {
     "name": "stdout",
     "output_type": "stream",
     "text": [
      "['h', 'u', 'm', 'a', 'n']\n"
     ]
    }
   ],
   "source": [
    "#lambda syntax\n",
    "\n",
    "letters = list(map(lambda x: x, 'human'))\n",
    "print(letters)"
   ]
  },
  {
   "cell_type": "code",
   "execution_count": 12,
   "metadata": {},
   "outputs": [
    {
     "name": "stdout",
     "output_type": "stream",
     "text": [
      "[0, 2, 4, 6, 8, 10, 12, 14, 16, 18]\n"
     ]
    }
   ],
   "source": [
    "#conditional syntax\n",
    "\n",
    "number_list = [ x for x in range(20) if x % 2 == 0]\n",
    "print(number_list)"
   ]
  },
  {
   "cell_type": "code",
   "execution_count": 13,
   "metadata": {},
   "outputs": [
    {
     "name": "stdout",
     "output_type": "stream",
     "text": [
      "['Even', 'Odd', 'Even', 'Odd', 'Even', 'Odd', 'Even', 'Odd', 'Even', 'Odd']\n"
     ]
    }
   ],
   "source": [
    "#if else syntax\n",
    "obj = [\"Even\" if i%2==0 else \"Odd\" for i in range(10)]\n",
    "print(obj)"
   ]
  },
  {
   "cell_type": "markdown",
   "metadata": {},
   "source": [
    "## Questions 3:\n",
    "You have seen in the videos how powerful dictionary data structure is.\n",
    "In this assignment, given a number n, you have to write a program that generates a dictionary d which\n",
    "contains (i, i*i), where i is from 1 to n (both included).\n",
    "Then you have to just print this dictionary d.\n",
    "Example:\n",
    "Input: 4\n",
    "will give output as\n",
    "{1: 1, 2: 4, 3: 9, 4: 16}\n",
    "Input Format:\n",
    "Take the number n in a single line.\n",
    "Output Format:\n",
    "Print the dictionary d in a single line."
   ]
  },
  {
   "cell_type": "code",
   "execution_count": 2,
   "metadata": {},
   "outputs": [
    {
     "name": "stdout",
     "output_type": "stream",
     "text": [
      "4\n",
      "{1: 1, 2: 4, 3: 9, 4: 16}\n",
      "8\n",
      "{1: 1, 2: 4, 3: 9, 4: 16, 5: 25, 6: 36, 7: 49, 8: 64}\n"
     ]
    }
   ],
   "source": [
    "def generateDict():\n",
    "    num= int(input())\n",
    "    my_dict={i: i*i for i in range(1, num+1)}\n",
    "    print(my_dict)\n",
    "    \n",
    "# Test casse 1 n=4\n",
    "generateDict()\n",
    "# Test casse 1 n=8\n",
    "generateDict()"
   ]
  },
  {
   "cell_type": "markdown",
   "metadata": {},
   "source": [
    "## Questions 4:\n",
    "There is a robot which wants to go the charging point to charge itself.\n",
    "The robot moves in a 2-D plane from the original point (0,0). The robot can\n",
    "move toward UP, DOWN, LEFT and RIGHT with given steps.\n",
    "The trace of robot movement is shown as the following:\n",
    "UP 5\n",
    "DOWN 3\n",
    "LEFT 3\n",
    "RIGHT 2\n",
    "Then, the output of the program should be:\n",
    "2\n",
    "The numbers after the direction are steps.\n",
    "Write a program to compute the distance between the current position after\n",
    "a sequence of movement and original point. If the distance is a float, then\n",
    "just print the nearest integer (use round() function for that and then convert\n",
    "it into an integer)."
   ]
  },
  {
   "cell_type": "code",
   "execution_count": 9,
   "metadata": {},
   "outputs": [
    {
     "name": "stdout",
     "output_type": "stream",
     "text": [
      "Enter the number of steps to take: 4\n",
      "UP 5\n",
      "DOWN 3\n",
      "LEFT 3\n",
      "RIGHT 2\n",
      "2\n"
     ]
    }
   ],
   "source": [
    "import math \n",
    "def move(currentPosition, info):\n",
    "    direction=info.split()[0]\n",
    "    steps=int(info.split()[1])\n",
    "    if direction=='UP':\n",
    "        currentPosition[1]+=steps\n",
    "    elif direction=='DOWN':\n",
    "        currentPosition[1]-=steps\n",
    "    elif direction=='RIGHT':\n",
    "        currentPosition[0]+=steps\n",
    "    elif direction=='LEFT':\n",
    "        currentPosition[0]-=steps\n",
    "    return currentPosition\n",
    "    \n",
    "    \n",
    "    \n",
    "def moveRobot():\n",
    "    numOfStepsToTake=int(input(\"Enter the number of steps to take: \"))\n",
    "    currentStep=0\n",
    "    start_point=[0,0]\n",
    "    while currentStep<numOfStepsToTake:\n",
    "        currMove=input()\n",
    "        start_point=move(start_point,currMove)\n",
    "        currentStep+=1\n",
    "    # distance between 2 points= sqrt((x2-x1)^2+(y2-y1)^2)\n",
    "    distance=round(math.sqrt(start_point[0]**2+start_point[1]**2))\n",
    "    print(distance)\n",
    "        \n",
    "moveRobot()   "
   ]
  },
  {
   "cell_type": "code",
   "execution_count": null,
   "metadata": {},
   "outputs": [],
   "source": []
  }
 ],
 "metadata": {
  "kernelspec": {
   "display_name": "Python 3",
   "language": "python",
   "name": "python3"
  },
  "language_info": {
   "codemirror_mode": {
    "name": "ipython",
    "version": 3
   },
   "file_extension": ".py",
   "mimetype": "text/x-python",
   "name": "python",
   "nbconvert_exporter": "python",
   "pygments_lexer": "ipython3",
   "version": "3.7.6"
  }
 },
 "nbformat": 4,
 "nbformat_minor": 4
}
